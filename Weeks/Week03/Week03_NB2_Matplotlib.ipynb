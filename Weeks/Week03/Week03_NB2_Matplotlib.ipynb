{
  "cells": [
    {
      "metadata": {
        "slideshow": {
          "slide_type": "slide"
        }
      },
      "cell_type": "markdown",
      "source": "# Matplotlib"
    },
    {
      "metadata": {
        "slideshow": {
          "slide_type": "slide"
        }
      },
      "cell_type": "markdown",
      "source": "https://matplotlib.org/\n\n* \"Matplotlib is a comprehensive library for creating static, animated, and interactive visualizations in Python.\"\n* \"Matplotlib makes easy things easy and hard things possible.\"\n\n* Matplotlib was built on the NumPy and SciPy frameworks and initially made to enable interactive Matlab-like plotting via gnuplot from iPython\n\n* Gained early traction with support from the Space Telescope Institute and JPL\n\n* Easily one of the go-to libraries for academic publishing needs\n  * Create publication-ready graphics in a range of formats\n  * Powerful options to customize all aspects of a figure\n  \n* Matplotlib underlies the plotting capabilities of other libraries such as Pandas, Seaborn, and plotnine"
    },
    {
      "metadata": {
        "slideshow": {
          "slide_type": "slide"
        }
      },
      "cell_type": "markdown",
      "source": "<p style=\"text-align:center;\">\n    <img src=\"https://matplotlib.org/stable/_images/sphx_glr_anatomy_001_2_0x.png\" alt=\"Matplotlib Anatomy of a Figure\" width=\"500\"/>\n</p>\n<a href=\"https://matplotlib.org/stable/gallery/showcase/anatomy.html\">Anatomy of a Figure</a>"
    },
    {
      "metadata": {
        "slideshow": {
          "slide_type": "slide"
        },
        "trusted": true
      },
      "cell_type": "code",
      "source": "%matplotlib inline\nimport matplotlib.pyplot as plt\nimport numpy as np",
      "execution_count": null,
      "outputs": []
    },
    {
      "metadata": {
        "slideshow": {
          "slide_type": "slide"
        },
        "trusted": true
      },
      "cell_type": "code",
      "source": "plt.plot([1,2,3,4])",
      "execution_count": null,
      "outputs": []
    },
    {
      "metadata": {
        "slideshow": {
          "slide_type": "slide"
        },
        "trusted": true
      },
      "cell_type": "code",
      "source": "plt.plot([1,2,3,4]);",
      "execution_count": null,
      "outputs": []
    },
    {
      "metadata": {
        "slideshow": {
          "slide_type": "slide"
        },
        "trusted": true
      },
      "cell_type": "code",
      "source": "plt.plot([1,2,3,4])\nplt.show()",
      "execution_count": null,
      "outputs": []
    },
    {
      "metadata": {
        "slideshow": {
          "slide_type": "slide"
        },
        "trusted": true
      },
      "cell_type": "code",
      "source": "plt.plot([1,2,3,4],[2,4,6,8]);",
      "execution_count": null,
      "outputs": []
    },
    {
      "metadata": {
        "slideshow": {
          "slide_type": "slide"
        },
        "trusted": true
      },
      "cell_type": "code",
      "source": "plt.plot([1,2,3,4],[2,4,6,8],color='green',marker='o',linestyle='');",
      "execution_count": null,
      "outputs": []
    },
    {
      "metadata": {
        "slideshow": {
          "slide_type": "slide"
        },
        "trusted": true
      },
      "cell_type": "code",
      "source": "# np is our abbrevation for numpy\n# linspace(start, end, ntotal) will make an evenly spaced array of numbers\n# starting with \"start\", going up to and including \"end\", and consisting of \"ntotal\" number of data points\n\nx = np.linspace(0.5, 3.5, 10)\ny = np.cos(x)",
      "execution_count": null,
      "outputs": []
    },
    {
      "metadata": {
        "slideshow": {
          "slide_type": "slide"
        },
        "trusted": true
      },
      "cell_type": "code",
      "source": "plt.plot(x,y)\nplt.show()",
      "execution_count": null,
      "outputs": []
    },
    {
      "metadata": {
        "slideshow": {
          "slide_type": "slide"
        },
        "trusted": true
      },
      "cell_type": "code",
      "source": "plt.plot(x,y,'bo')\nplt.show()",
      "execution_count": null,
      "outputs": []
    },
    {
      "metadata": {
        "slideshow": {
          "slide_type": "slide"
        },
        "trusted": true
      },
      "cell_type": "code",
      "source": "plt.plot(x,y,'bo')\nplt.ylabel('cos(x)')\nplt.show()",
      "execution_count": null,
      "outputs": []
    },
    {
      "metadata": {},
      "cell_type": "markdown",
      "source": "https://matplotlib.org/stable/api/_as_gen/matplotlib.pyplot.plot.html"
    },
    {
      "metadata": {
        "trusted": true
      },
      "cell_type": "code",
      "source": "x2 = np.linspace(0.5, 3.5, 10)\ny2 = np.cos(2*np.pi/3*(x-0.5))",
      "execution_count": null,
      "outputs": []
    },
    {
      "metadata": {
        "trusted": true
      },
      "cell_type": "code",
      "source": "plt.plot(x,y,'bo')\nplt.plot(x2,y2,'ks')\nplt.ylabel('cos(x)')\nplt.show()",
      "execution_count": null,
      "outputs": []
    },
    {
      "metadata": {
        "trusted": true
      },
      "cell_type": "code",
      "source": "plt.plot(x,y,'b')\nplt.plot(x2,y2,'k')\nplt.ylabel('cos(x)')\nplt.show()",
      "execution_count": null,
      "outputs": []
    },
    {
      "metadata": {
        "trusted": true
      },
      "cell_type": "code",
      "source": "plt.plot(x,y,'b')\nplt.plot(x2,y2,'k')\nplt.ylabel('y')\nplt.xlabel('x')\nplt.show()",
      "execution_count": null,
      "outputs": []
    },
    {
      "metadata": {
        "trusted": true
      },
      "cell_type": "code",
      "source": "plt.plot(x,y,'b')\nplt.plot(x2,y2,'k')\nplt.ylabel('y',fontsize=16)\nplt.xlabel('x',fontsize=16)\nplt.title('cosines',fontsize=16)\nplt.show()",
      "execution_count": null,
      "outputs": []
    },
    {
      "metadata": {
        "trusted": true
      },
      "cell_type": "code",
      "source": "plt.plot(x,y,'b')\nplt.plot(x2,y2,'k')\nplt.ylabel('y',fontsize=16)\nplt.xlabel('x',fontsize=16)\nplt.title('cosines',fontsize=16)\nplt.savefig('cosines.png')",
      "execution_count": null,
      "outputs": []
    },
    {
      "metadata": {
        "trusted": true
      },
      "cell_type": "code",
      "source": "x = np.linspace(0, 2*np.pi, 100)\ny1 = 3 + np.cos(x)\ny2 = 1 + 0.5*np.cos(1+x/0.75)\n\nplt.plot(x, y1, color='green', linestyle='-', linewidth=1)\nplt.plot(x, y2, color='blue', linestyle='-', linewidth=1)\n\nplt.ylim(0,4.5)\nplt.yticks([0, 1, 2, 3, 4], fontsize=14)\n\nplt.xlabel('x', fontsize=16)\nplt.ylabel('y', fontsize=16)\n\nplt.title('sinusoids', fontsize=16)\n\nplt.text(3,0,'addedtext')\n\nplt.annotate('Spine', xy=(6.28, 1.5), xytext=(5.5, 1.0),\n            weight='bold', color='blue',\n            arrowprops=dict(arrowstyle='->',\n                            connectionstyle=\"arc3\",\n                            color='blue'))\n\nplt.show();",
      "execution_count": null,
      "outputs": []
    },
    {
      "metadata": {},
      "cell_type": "markdown",
      "source": "## Exercise:\n\nFollow the instructions in the comments below.  Consult the documentation as needed (https://matplotlib.org/stable/api/_as_gen/matplotlib.pyplot.plot.html)"
    },
    {
      "metadata": {
        "trusted": true
      },
      "cell_type": "code",
      "source": "x = np.linspace(0, 2*np.pi, 100)\ny1 = 3 + np.cos(x)\ny2 = 1 + 0.5*np.cos(1+x/0.75)\n\n# Make these lines dashed\nplt.plot(x, y1, color='green', linestyle='-', linewidth=1)\nplt.plot(x, y2, color='blue', linestyle='-', linewidth=1)\n\nplt.ylim(0,4.5)\n# Make the x axis range from 0 to 2pi\n\nplt.yticks([0, 1, 2, 3, 4], fontsize=14)\n# Make the xticks at (0, pi, 2pi)\n\nplt.xlabel('x', fontsize=16)\nplt.ylabel('y', fontsize=16)\n\n# Change this title to be \"Anatomy of a figure\"\nplt.title('sinusoids', fontsize=16)\n\n# Shift the following text to be below the title, make it more descriptive, color it blue \nplt.text(3,0,'addedtext')\n\n# Use this annotation command to make another annotation pointing to the green line\nplt.annotate('Spine', xy=(6.28, 1.5), xytext=(5.5, 1.0),\n            weight='bold', color='blue',\n            arrowprops=dict(arrowstyle='->',\n                            connectionstyle=\"arc3\",\n                            color='blue'))\n\nplt.show();",
      "execution_count": null,
      "outputs": []
    },
    {
      "metadata": {},
      "cell_type": "markdown",
      "source": "# pyplot vs figure and axes"
    },
    {
      "metadata": {
        "trusted": true
      },
      "cell_type": "code",
      "source": "x = np.linspace(0, 2*np.pi, 100)\ny1 = 3 + np.cos(x)\ny2 = 1 + 0.5*np.cos(1+x/0.75)",
      "execution_count": null,
      "outputs": []
    },
    {
      "metadata": {
        "trusted": true
      },
      "cell_type": "code",
      "source": "plt.plot(x,y1,x,y2)\nplt.show()",
      "execution_count": null,
      "outputs": []
    },
    {
      "metadata": {
        "trusted": true
      },
      "cell_type": "code",
      "source": "fig = plt.figure()\nax = fig.add_axes([0,0,1,1])\n\nax.plot(x,y1,x,y2)\n\nplt.show()",
      "execution_count": null,
      "outputs": []
    },
    {
      "metadata": {
        "trusted": true
      },
      "cell_type": "code",
      "source": "fig = plt.figure()\nax = fig.add_subplot(111)\n\nax.plot(x,y1,x,y2)\n\nplt.show()",
      "execution_count": null,
      "outputs": []
    },
    {
      "metadata": {
        "trusted": true
      },
      "cell_type": "code",
      "source": "fig = plt.figure(figsize=(8,8))\nax = fig.add_subplot(1, 1, 1)\n\nax.plot(x,y1,x,y2)\n\nplt.show()",
      "execution_count": null,
      "outputs": []
    },
    {
      "metadata": {
        "trusted": true
      },
      "cell_type": "code",
      "source": "fig,ax = plt.subplots(1,1,figsize=(8,8))\n\nax.plot(x,y1,x,y2)\n\nplt.show()",
      "execution_count": null,
      "outputs": []
    },
    {
      "metadata": {
        "trusted": true
      },
      "cell_type": "code",
      "source": "fig,ax = plt.subplots(2,1,figsize=(8,8))\n\nax[0].plot(x,y1)\nax[1].plot(x,y2)\n\nplt.show()",
      "execution_count": null,
      "outputs": []
    },
    {
      "metadata": {},
      "cell_type": "markdown",
      "source": "## Exercise:\n\nConvert the *Anatomy* figure code (included below) to use figure and axes rather than just `plt`\n\nThe following documentation may be useful: https://matplotlib.org/stable/api/axes_api.html"
    },
    {
      "metadata": {
        "trusted": true
      },
      "cell_type": "code",
      "source": "x = np.linspace(0, 2*np.pi, 100)\ny1 = 3 + np.cos(x)\ny2 = 1 + 0.5*np.cos(1+x/0.75)\n\n# Make these lines dashed\nplt.plot(x, y1, color='green', linestyle='--', linewidth=1)\nplt.plot(x, y2, color='blue', linestyle='--', linewidth=1)\n\nplt.ylim(0,4.5)\n# Make the x axis range from 0 to 2pi\nplt.xlim(0,2*np.pi)\n\nplt.yticks([0, 1, 2, 3, 4], fontsize=14)\n# Make the xticks at (0, pi, 2pi)\nplt.xticks([0,np.pi,2*np.pi])\n\nplt.xlabel('x', fontsize=16)\nplt.ylabel('y', fontsize=16)\n\n# Change this title to be \"Anatomy of a figure\"\nplt.title('Anatomy of a figure', fontsize=16)\n\n# Shift the following text to be below the title, make it more descriptive, color it blue \nplt.text(3,4.3,'Title',color='blue')\n\n# Use this annotation command to make another annotation pointing to the green line\nplt.annotate('Spine', xy=(6.28, 1.5), xytext=(5.5, 1.0),\n            weight='bold', color='blue',\n            arrowprops=dict(arrowstyle='->',\n                            connectionstyle=\"arc3\",\n                            color='blue'))\nplt.annotate('Green line', xy=(0.8, 3.8), xytext=(1.5, 3.4),\n            weight='bold', color='blue',\n            arrowprops=dict(arrowstyle='->',\n                            connectionstyle=\"arc3\",\n                            color='blue'))\n\nplt.show();",
      "execution_count": null,
      "outputs": []
    },
    {
      "metadata": {},
      "cell_type": "markdown",
      "source": "# Creating different types of plots"
    },
    {
      "metadata": {
        "trusted": true
      },
      "cell_type": "code",
      "source": "x = np.linspace(0.5, 3.5, 10)\ny = np.cos(x)",
      "execution_count": null,
      "outputs": []
    },
    {
      "metadata": {
        "trusted": true
      },
      "cell_type": "code",
      "source": "plt.scatter(x,y)\nplt.show()",
      "execution_count": null,
      "outputs": []
    },
    {
      "metadata": {
        "trusted": true
      },
      "cell_type": "code",
      "source": "plt.bar(x,y)\nplt.show()",
      "execution_count": null,
      "outputs": []
    },
    {
      "metadata": {
        "trusted": true
      },
      "cell_type": "code",
      "source": "plt.bar(x,y,width=0.2)\nplt.show()",
      "execution_count": null,
      "outputs": []
    },
    {
      "metadata": {
        "trusted": true
      },
      "cell_type": "code",
      "source": "plt.barh(x,y,height=0.2)\nplt.show()",
      "execution_count": null,
      "outputs": []
    },
    {
      "metadata": {
        "trusted": true
      },
      "cell_type": "code",
      "source": "x = np.linspace(0, 4*np.pi, 100)\ny = np.linspace(-2, 2, 100)\nXgrid, Ygrid = np.meshgrid(x,y)\n\nf = np.exp(-Ygrid**2) * np.cos(Xgrid)\n\nplt.contourf(f)\n\nplt.show()",
      "execution_count": null,
      "outputs": []
    },
    {
      "metadata": {
        "trusted": true
      },
      "cell_type": "code",
      "source": "x = np.linspace(0, 4*np.pi, 100)\ny = np.linspace(-2, 2, 100)\nXgrid, Ygrid = np.meshgrid(x,y)\n\nf = np.exp(-Ygrid**2) * np.cos(Xgrid)\n\nplt.contourf(Xgrid, Ygrid, f)\n\nplt.show()",
      "execution_count": null,
      "outputs": []
    },
    {
      "metadata": {
        "trusted": true
      },
      "cell_type": "code",
      "source": "x = np.linspace(0, 4*np.pi, 100)\ny = np.linspace(-2, 2, 100)\nXgrid, Ygrid = np.meshgrid(x,y)\n\nf = np.exp(-Ygrid**2) * np.cos(Xgrid)\n\nplt.contourf(Xgrid, Ygrid, f)\nax = plt.gca()\nax.set_xticks([0,2*np.pi,4*np.pi])\nax.set_xticklabels(['0','$2\\pi$','$4\\pi$'])\n\nplt.show()",
      "execution_count": null,
      "outputs": []
    },
    {
      "metadata": {
        "trusted": true
      },
      "cell_type": "code",
      "source": "np.random.seed(19680801)\ndata = np.random.randn(2, 100)\n\nfig, axs = plt.subplots(2, 2, figsize=(6, 6))\naxs[0, 0].hist(data[0])\naxs[1, 0].scatter(data[0], data[1])\naxs[0, 1].plot(data[0], data[1])\naxs[1, 1].hist2d(data[0], data[1])\n\nplt.show()",
      "execution_count": null,
      "outputs": []
    },
    {
      "metadata": {},
      "cell_type": "markdown",
      "source": "## Exercise:"
    },
    {
      "metadata": {
        "trusted": true
      },
      "cell_type": "code",
      "source": "np.random.seed(19680801)\ndata = np.random.randn(2, 100)\n\nfig, axs = plt.subplots(2, 2, figsize=(6, 6))\n\n# for hist, use the parameters \"width\" and \"bins\" to experiment with different hist plots\naxs[0, 0].hist(data[0])\n\n# give this scatter plot y range of (-3.5,3.5), x range of (-4,4), and make the points green\naxs[1, 0].scatter(data[0], data[1])\n\n# make the lines dotted\naxs[0, 1].plot(data[0], data[1])\n\naxs[1, 1].hist2d(data[0], data[1])\n\nplt.show()",
      "execution_count": null,
      "outputs": []
    }
  ],
  "metadata": {
    "kernelspec": {
      "name": "python3",
      "display_name": "Python 3 (ipykernel)",
      "language": "python"
    },
    "language_info": {
      "name": "python",
      "version": "3.10.8",
      "mimetype": "text/x-python",
      "codemirror_mode": {
        "name": "ipython",
        "version": 3
      },
      "pygments_lexer": "ipython3",
      "nbconvert_exporter": "python",
      "file_extension": ".py"
    },
    "toc": {
      "base_numbering": 1,
      "nav_menu": {},
      "number_sections": true,
      "sideBar": true,
      "skip_h1_title": false,
      "title_cell": "Table of Contents",
      "title_sidebar": "Contents",
      "toc_cell": false,
      "toc_position": {},
      "toc_section_display": true,
      "toc_window_display": false
    }
  },
  "nbformat": 4,
  "nbformat_minor": 4
}