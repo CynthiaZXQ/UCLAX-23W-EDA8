{
  "cells": [
    {
      "cell_type": "markdown",
      "id": "ffc4ac17-b99a-4756-a9b5-e1b3239bb013",
      "metadata": {},
      "source": "# Decomposing Time Series"
    },
    {
      "cell_type": "code",
      "execution_count": null,
      "id": "813bc57d-0b5c-473e-b357-39c6bd31b73f",
      "metadata": {
        "trusted": true
      },
      "outputs": [],
      "source": "import matplotlib.pyplot as plt\nfrom statsmodels.datasets import co2\nfrom statsmodels.tsa.seasonal import STL"
    },
    {
      "cell_type": "code",
      "execution_count": null,
      "id": "901529ce-81d6-4655-a0cf-ed1198fd07eb",
      "metadata": {
        "trusted": true
      },
      "outputs": [],
      "source": "data = co2.load().data"
    },
    {
      "cell_type": "code",
      "execution_count": null,
      "id": "81279857-71c9-47fd-8fe4-135f8c655661",
      "metadata": {
        "trusted": true
      },
      "outputs": [],
      "source": "data"
    },
    {
      "cell_type": "code",
      "execution_count": null,
      "id": "c66ba1bd-9c79-4614-b2a9-03373bfa0cf9",
      "metadata": {
        "trusted": true
      },
      "outputs": [],
      "source": "data.plot()"
    },
    {
      "cell_type": "markdown",
      "id": "3e225089-25da-491b-845e-37833fcb7eac",
      "metadata": {},
      "source": "Looking at the above, there are clearly some missing values."
    },
    {
      "cell_type": "code",
      "execution_count": null,
      "id": "c734db03-d26c-4128-a9ff-d35d44f5f949",
      "metadata": {
        "trusted": true
      },
      "outputs": [],
      "source": "data.isna().sum()"
    },
    {
      "cell_type": "code",
      "execution_count": null,
      "id": "16aef81c-2ff0-4ff4-85a6-64478d02a195",
      "metadata": {
        "trusted": true
      },
      "outputs": [],
      "source": "data = data.resample('M').mean().ffill()"
    },
    {
      "cell_type": "code",
      "execution_count": null,
      "id": "96414677-3d82-4ff1-89a7-d597fe6d1b61",
      "metadata": {
        "trusted": true
      },
      "outputs": [],
      "source": "data.plot()"
    },
    {
      "cell_type": "code",
      "execution_count": null,
      "id": "7d3fcfa2-8f78-4a24-8ba7-b91db73ef1eb",
      "metadata": {
        "trusted": true
      },
      "outputs": [],
      "source": "data.isna().sum()"
    },
    {
      "cell_type": "markdown",
      "id": "ec2d9bac-3190-44cb-b6fe-6f09beee6b32",
      "metadata": {},
      "source": "There are several methods in the statsmodels library for decomposing time series."
    },
    {
      "cell_type": "code",
      "execution_count": null,
      "id": "983e8b1c-8bdd-4678-8683-086aa223412b",
      "metadata": {
        "trusted": true
      },
      "outputs": [],
      "source": "res = STL(data).fit()\nres.plot()\nplt.show()"
    },
    {
      "cell_type": "code",
      "execution_count": null,
      "id": "20a8b658-3f33-4da9-80ac-59317e8e937b",
      "metadata": {
        "trusted": true
      },
      "outputs": [],
      "source": "data"
    },
    {
      "cell_type": "code",
      "execution_count": null,
      "id": "2f31d2af-8d73-46fa-b516-7524df40ae6f",
      "metadata": {
        "trusted": true
      },
      "outputs": [],
      "source": "data[1:24].plot()"
    },
    {
      "cell_type": "code",
      "execution_count": null,
      "id": "f12c60b6-372b-4d49-a384-070141517cbc",
      "metadata": {
        "trusted": true
      },
      "outputs": [],
      "source": "from statsmodels.graphics.tsaplots import plot_acf, plot_pacf, month_plot, quarter_plot\n\nprint('Autocorrelation')\nacf_plot = plot_acf(data['co2'], lags=24, title='Autocorrelation')\npacf_plot = plot_pacf(data['co2'], lags=24, title='Partial Autocorrelation')"
    },
    {
      "cell_type": "markdown",
      "id": "e847bea5",
      "metadata": {},
      "source": "If you're looking at a model, a plot of the autocorrelation of the residuals will tell you whether some information or variables may be missing in your model."
    },
    {
      "cell_type": "markdown",
      "id": "d88c3fb9",
      "metadata": {},
      "source": "The residuals for the CO2 data do not have a significant autocorrelation."
    },
    {
      "cell_type": "code",
      "execution_count": null,
      "id": "0c9f6f70",
      "metadata": {
        "trusted": true
      },
      "outputs": [],
      "source": "acf_plot = plot_acf(res.resid, lags=24, title='Autocorrelation')"
    },
    {
      "cell_type": "markdown",
      "id": "80158e61",
      "metadata": {},
      "source": "But if we look at one of our earlier examples on fitting data with polynomials, we can see how the autocorrelation of the residuals indicates that one order of polynomial is not as good for modeling as another."
    },
    {
      "cell_type": "code",
      "execution_count": null,
      "id": "03408af6",
      "metadata": {
        "trusted": true
      },
      "outputs": [],
      "source": "import numpy as np\nimport seaborn as sns\n\n# generate 100 points from a normal \n# distribution that has mean = 0 and std dev = 3.5\nnp.random.seed(42)\nnoise = np.random.normal(0,3.5,100)\n\n# make the data arrays (y = x^2 + noise)\nx = np.linspace(0,10,100)\ny = x**2 + noise\nz1 = np.polyfit(x,y,1)\ny1 = z1[1] + z1[0]*x\nresid1 = y - y1\nz2 = np.polyfit(x,y,2)\ny2 = z2[2] + z2[1]*x + z2[0]*x**2\nresid2 = y - y2\n\n# plot them with order 1 and 2 fits\nfig,ax = plt.subplots(2,2)\n\nax[0,0].plot(x,y,'ko')\nax[0,0].plot(x,y1,'b')\nax[0,1].plot(x,resid1,'ko')\nax[1,0].plot(x,y,'ko')\nax[1,0].plot(x,y2,'b')\nax[1,1].plot(x,resid2,'ko')"
    },
    {
      "cell_type": "code",
      "execution_count": null,
      "id": "02e4677c",
      "metadata": {
        "trusted": true
      },
      "outputs": [],
      "source": "acf_plot = plot_acf(resid1, lags=24, title='Autocorrelation')"
    },
    {
      "cell_type": "code",
      "execution_count": null,
      "id": "d46ec97c",
      "metadata": {
        "trusted": true
      },
      "outputs": [],
      "source": "acf_plot = plot_acf(resid2, lags=24, title='Autocorrelation')"
    },
    {
      "cell_type": "markdown",
      "id": "eb48ad4e",
      "metadata": {},
      "source": "Back to the CO2 data."
    },
    {
      "cell_type": "markdown",
      "id": "ea42efd6",
      "metadata": {},
      "source": "We can look at long-term behavior for each of our shorter-term measures."
    },
    {
      "cell_type": "code",
      "execution_count": null,
      "id": "40913cd5-80aa-4520-859b-74b712bc4fb0",
      "metadata": {
        "trusted": true
      },
      "outputs": [],
      "source": "m_plot = month_plot(data['co2'])"
    },
    {
      "cell_type": "markdown",
      "id": "e14d1c71-f0ba-455f-a609-be0f19672caa",
      "metadata": {},
      "source": "What does this tell us?"
    },
    {
      "cell_type": "markdown",
      "id": "22c04ee1-8d30-4796-84f8-dd2dadf5ad84",
      "metadata": {},
      "source": "How about quarterly data?"
    },
    {
      "cell_type": "code",
      "execution_count": null,
      "id": "7f075629-6290-480f-b95e-a0a7ddd7b83a",
      "metadata": {
        "trusted": true
      },
      "outputs": [],
      "source": "q_plot = quarter_plot(data['co2'])"
    },
    {
      "cell_type": "markdown",
      "id": "447020b6-a6d8-48dc-8233-f5944af0c55f",
      "metadata": {},
      "source": "We need to resample our data.  (This is a common time-series operation)."
    },
    {
      "cell_type": "code",
      "execution_count": null,
      "id": "03173b4f-0fb9-43f6-a460-fd7cf2651b39",
      "metadata": {
        "trusted": true
      },
      "outputs": [],
      "source": "data_quarterly = data.resample('Q').mean()"
    },
    {
      "cell_type": "code",
      "execution_count": null,
      "id": "5452d94d",
      "metadata": {
        "trusted": true
      },
      "outputs": [],
      "source": "data_quarterly"
    },
    {
      "cell_type": "code",
      "execution_count": null,
      "id": "b07930f2-9a37-4d5c-91f0-f2e4d4d9fbfa",
      "metadata": {
        "trusted": true
      },
      "outputs": [],
      "source": "q_plot = quarter_plot(data_quarterly['co2'])"
    }
  ],
  "metadata": {
    "kernelspec": {
      "display_name": "Python 3 (ipykernel)",
      "language": "python",
      "name": "python3"
    },
    "language_info": {
      "codemirror_mode": {
        "name": "ipython",
        "version": 3
      },
      "file_extension": ".py",
      "mimetype": "text/x-python",
      "name": "python",
      "nbconvert_exporter": "python",
      "pygments_lexer": "ipython3",
      "version": "3.10.8"
    }
  },
  "nbformat": 4,
  "nbformat_minor": 5
}