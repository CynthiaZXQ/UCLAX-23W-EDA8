{
  "cells": [
    {
      "cell_type": "markdown",
      "id": "8bf9532b",
      "metadata": {},
      "source": "# Matplotlib & Pandas & Seaborn"
    },
    {
      "cell_type": "markdown",
      "id": "1948bd18",
      "metadata": {},
      "source": "<img src='https://pandas.pydata.org/docs/_static/pandas.svg' width=500>"
    },
    {
      "cell_type": "markdown",
      "id": "frequent-handy",
      "metadata": {},
      "source": "https://pandas.pydata.org/\n\nPandas data-manipulation capabilities are built on top of NumPy, utilizing its fast array processing, and its graphing capabilities are built on top of Matplotlib.\n\n* \"pandas is a fast, powerful, flexible and easy to use open source data analysis and manipulation tool, built on top of the Python programming language.\"\n\n* It may be one of the most widely used tools for data munging\n\n  * present data in nice formats\n  * multiple convenient methods for filtering data\n  * work with a variety of data formats (CSV, Excel, …)\n  * convenient functions for quickly plotting data\n\n* The name comes from panel data (and is also a play on python data analysis)"
    },
    {
      "cell_type": "markdown",
      "id": "vietnamese-buffer",
      "metadata": {},
      "source": "## Importing libraries and Setting up some data"
    },
    {
      "cell_type": "code",
      "execution_count": null,
      "id": "pursuant-guest",
      "metadata": {
        "trusted": true
      },
      "outputs": [],
      "source": "import yahoo_fin.stock_info as si\nimport requests\nimport pandas as pd\nimport matplotlib.pyplot as plt\nimport ipywidgets"
    },
    {
      "cell_type": "code",
      "execution_count": null,
      "id": "6d6a45e3-0f83-4955-a84f-732b3a1b652d",
      "metadata": {
        "trusted": true
      },
      "outputs": [],
      "source": "# Getting the actual company name from a stock ticker symbol\ndef get_symbol(symbol):\n    return si.get_quote_data(symbol)['shortName']"
    },
    {
      "cell_type": "code",
      "execution_count": null,
      "id": "d5933ee8",
      "metadata": {
        "trusted": true
      },
      "outputs": [],
      "source": "get_symbol('AAPL')"
    },
    {
      "cell_type": "code",
      "execution_count": null,
      "id": "dressed-technician",
      "metadata": {
        "trusted": true
      },
      "outputs": [],
      "source": "few_days = si.get_data('aapl', start_date = '01/01/2022', end_date = '04/30/2022')"
    },
    {
      "cell_type": "code",
      "execution_count": null,
      "id": "certified-medicaid",
      "metadata": {
        "trusted": true
      },
      "outputs": [],
      "source": "few_days"
    },
    {
      "cell_type": "code",
      "execution_count": null,
      "id": "pretty-myanmar",
      "metadata": {
        "trusted": true
      },
      "outputs": [],
      "source": "# The Matplotlib way\n\nfig,ax = plt.subplots(1,1,figsize=(7,5))\nax.plot(few_days.index, few_days.high)\nax.set_title(get_symbol('AAPL'))\nfig.autofmt_xdate()"
    },
    {
      "cell_type": "code",
      "execution_count": null,
      "id": "presidential-maximum",
      "metadata": {
        "trusted": true
      },
      "outputs": [],
      "source": "# The Pandas way\n\nfew_days.plot(y='high');"
    },
    {
      "cell_type": "code",
      "execution_count": null,
      "id": "funded-passport",
      "metadata": {
        "trusted": true
      },
      "outputs": [],
      "source": "few_days.plot(y='high',\n              figsize=(7,5),\n              title=get_symbol('AAPL'),\n              legend=False);"
    },
    {
      "cell_type": "markdown",
      "id": "precise-auditor",
      "metadata": {},
      "source": "## There are also methods for conveniently making a range of other plots"
    },
    {
      "cell_type": "code",
      "execution_count": null,
      "id": "radio-clause",
      "metadata": {
        "trusted": true
      },
      "outputs": [],
      "source": "appl_top_6 = pd.read_csv('https://raw.githubusercontent.com/benjum/UCLAX-23W-EDA/main/Weeks/Week04/holdings-of-appl-top-6.csv')"
    },
    {
      "cell_type": "code",
      "execution_count": null,
      "id": "american-armor",
      "metadata": {
        "trusted": true
      },
      "outputs": [],
      "source": "appl_top_6"
    },
    {
      "cell_type": "code",
      "execution_count": null,
      "id": "16a84f76",
      "metadata": {
        "trusted": true
      },
      "outputs": [],
      "source": "appl_top_6.plot()"
    },
    {
      "cell_type": "code",
      "execution_count": null,
      "id": "5f8e9e49",
      "metadata": {
        "trusted": true
      },
      "outputs": [],
      "source": "appl_top_6.plot(x='Company')"
    },
    {
      "cell_type": "code",
      "execution_count": null,
      "id": "38f084bd",
      "metadata": {
        "trusted": true
      },
      "outputs": [],
      "source": "appl_top_6.plot(x='Company',y='Vanguard Group, Inc. (The)')"
    },
    {
      "cell_type": "code",
      "execution_count": null,
      "id": "1ed8b388",
      "metadata": {
        "trusted": true
      },
      "outputs": [],
      "source": "appl_top_6.plot(kind='bar',x='Company',y='Vanguard Group, Inc. (The)')"
    },
    {
      "cell_type": "code",
      "execution_count": null,
      "id": "c0a1dfa6",
      "metadata": {
        "trusted": true
      },
      "outputs": [],
      "source": "appl_top_6.plot(kind='barh',x='Company',y='Vanguard Group, Inc. (The)')"
    },
    {
      "cell_type": "code",
      "execution_count": null,
      "id": "9d2af5f7",
      "metadata": {
        "trusted": true
      },
      "outputs": [],
      "source": "appl_top_6.plot.barh(x='Company',y='Vanguard Group, Inc. (The)')"
    },
    {
      "cell_type": "code",
      "execution_count": null,
      "id": "cbb605ad",
      "metadata": {
        "trusted": true
      },
      "outputs": [],
      "source": "appl_top_6.plot.barh(x='Company',\n                     y='Vanguard Group, Inc. (The)',\n                     figsize=(5,8))"
    },
    {
      "cell_type": "code",
      "execution_count": null,
      "id": "normal-wheel",
      "metadata": {
        "trusted": true
      },
      "outputs": [],
      "source": "appl_top_6.sort_values('Vanguard Group, Inc. (The)')"
    },
    {
      "cell_type": "code",
      "execution_count": null,
      "id": "related-train",
      "metadata": {
        "trusted": true
      },
      "outputs": [],
      "source": "appl_top_6.sort_values('Vanguard Group, Inc. (The)').plot.bar(x='Company',\n                                                              figsize=(15,7),\n                                                              cmap='gist_rainbow');"
    },
    {
      "cell_type": "code",
      "execution_count": null,
      "id": "lonely-auction",
      "metadata": {
        "trusted": true
      },
      "outputs": [],
      "source": "vang_top_5 = appl_top_6.sort_values('Vanguard Group, Inc. (The)',ascending=False)[:5]\nvang_top_5"
    },
    {
      "cell_type": "code",
      "execution_count": null,
      "id": "narrative-rouge",
      "metadata": {
        "trusted": true
      },
      "outputs": [],
      "source": "vang_top_5.plot.barh(x='Company',\n                     figsize=(10,7),\n                     cmap='gist_rainbow');"
    },
    {
      "cell_type": "code",
      "execution_count": null,
      "id": "uniform-atlantic",
      "metadata": {
        "trusted": true
      },
      "outputs": [],
      "source": "vang_top_5.plot.barh(x='Company',\n                     figsize=(10,7),\n                     cmap='gist_rainbow');\n\n# You can use plt.gca to get the current axes object from pandas plots too\n# and then use regular matplotlib methods to alter the plots\n# Try doing that here to change limits on the horizontal axis to (0,15)\n# and then make xticks of (0,5,10,15)\n\n\n"
    },
    {
      "cell_type": "markdown",
      "id": "2104809e",
      "metadata": {},
      "source": "<img src='https://imgs.search.brave.com/-Y55h6bcsK0oBUImQ65ei54RRmm0qo_mLAo-fP547VU/rs:fit:1200:1080:1/g:ce/aHR0cHM6Ly9taXJv/Lm1lZGl1bS5jb20v/bWF4LzM4NDAvMSpa/b3VXRk5xeXVGUDVk/QnRxS2RpTmZBLmpw/ZWc' width=700>"
    },
    {
      "cell_type": "markdown",
      "id": "attempted-rough",
      "metadata": {},
      "source": "# Seaborn\n\n*\"If Matplotlib 'tries to make easy things easy and hard things possible,' Seaborn tries to make a well-defined set of hard things easy too.\"*\n\nhttps://seaborn.pydata.org\n\n* Built on top of matplotlib and closely integrated with pandas data structures.\n* Used for making statistical graphics and using visualization to quickly and easily explore and understand data.\n* The style settings can also affect matplotlib plots, even if you don't make them with seaborn."
    },
    {
      "cell_type": "code",
      "execution_count": null,
      "id": "alternative-jimmy",
      "metadata": {
        "trusted": true
      },
      "outputs": [],
      "source": "import seaborn as sns"
    },
    {
      "cell_type": "code",
      "execution_count": null,
      "id": "northern-newspaper",
      "metadata": {
        "trusted": true
      },
      "outputs": [],
      "source": "sns.scatterplot(data=appl_top_6, x=\"Blackrock Inc.\", y=\"Vanguard Group, Inc. (The)\");"
    },
    {
      "cell_type": "code",
      "execution_count": null,
      "id": "pleasant-jimmy",
      "metadata": {
        "trusted": true
      },
      "outputs": [],
      "source": "sns.lmplot(data=appl_top_6, x=\"Blackrock Inc.\", y=\"Vanguard Group, Inc. (The)\");"
    },
    {
      "cell_type": "code",
      "execution_count": null,
      "id": "strange-solution",
      "metadata": {
        "trusted": true
      },
      "outputs": [],
      "source": "sns.pairplot(appl_top_6.loc[:,appl_top_6.columns != 'Company']);"
    },
    {
      "cell_type": "code",
      "execution_count": null,
      "id": "entitled-invention",
      "metadata": {
        "trusted": true
      },
      "outputs": [],
      "source": "df = sns.load_dataset(\"penguins\")\ndf.head()"
    },
    {
      "cell_type": "code",
      "execution_count": null,
      "id": "suspended-creek",
      "metadata": {
        "trusted": true
      },
      "outputs": [],
      "source": "sns.set(style=\"whitegrid\")\n# sns.set(style=\"dark\")"
    },
    {
      "cell_type": "code",
      "execution_count": null,
      "id": "falling-carol",
      "metadata": {
        "trusted": true
      },
      "outputs": [],
      "source": "sns.scatterplot(x=df.bill_length_mm,y=df.bill_depth_mm,style=df.species);"
    },
    {
      "cell_type": "code",
      "execution_count": null,
      "id": "afb387e2-2bf4-4a71-b59a-8dc2ab0a63c4",
      "metadata": {
        "trusted": true
      },
      "outputs": [],
      "source": "sns.scatterplot(x=df.bill_length_mm,y=df.bill_depth_mm,hue=df.species);"
    },
    {
      "cell_type": "code",
      "execution_count": null,
      "id": "generous-antarctica",
      "metadata": {
        "trusted": true
      },
      "outputs": [],
      "source": "sns.pairplot(df,hue='species');"
    },
    {
      "cell_type": "code",
      "execution_count": null,
      "id": "legitimate-allocation",
      "metadata": {
        "trusted": true
      },
      "outputs": [],
      "source": "sns.regplot(x=df.bill_length_mm,y=df.bill_depth_mm);"
    },
    {
      "cell_type": "code",
      "execution_count": null,
      "id": "general-place",
      "metadata": {
        "trusted": true
      },
      "outputs": [],
      "source": "g = sns.FacetGrid(df, col='species', hue='species')\ng.map(plt.scatter, 'bill_length_mm', 'bill_depth_mm');"
    },
    {
      "cell_type": "markdown",
      "id": "suburban-membership",
      "metadata": {},
      "source": "# Preview of interactive plots"
    },
    {
      "cell_type": "code",
      "execution_count": null,
      "id": "standard-covering",
      "metadata": {
        "trusted": true
      },
      "outputs": [],
      "source": "import plotly.express as px"
    },
    {
      "cell_type": "code",
      "execution_count": null,
      "id": "noted-valentine",
      "metadata": {
        "trusted": true
      },
      "outputs": [],
      "source": "fig = px.scatter(df, x='bill_length_mm', y='bill_depth_mm', color=\"species\")\nfig.show()"
    },
    {
      "cell_type": "code",
      "execution_count": null,
      "id": "requested-wonder",
      "metadata": {
        "trusted": true
      },
      "outputs": [],
      "source": "px.scatter_3d(df,x='bill_length_mm', y='bill_depth_mm',z='flipper_length_mm',color='species')"
    },
    {
      "cell_type": "code",
      "execution_count": null,
      "id": "cognitive-rebate",
      "metadata": {
        "trusted": true
      },
      "outputs": [],
      "source": "def plotdows(ticker='AAPL'):\n    few_days = si.get_data(ticker, start_date = '01/01/2022', end_date = '04/30/2022')\n    fig,ax = plt.subplots(1,1,figsize=(7,5))\n    ax.plot(few_days.index, few_days.high)\n    ax.set_title(get_symbol(ticker))\n    fig.autofmt_xdate()\n    \ndow_list = si.tickers_dow()\nipywidgets.interactive(plotdows,ticker=dow_list)"
    }
  ],
  "metadata": {
    "kernelspec": {
      "display_name": "Python 3 (ipykernel)",
      "language": "python",
      "name": "python3"
    },
    "language_info": {
      "codemirror_mode": {
        "name": "ipython",
        "version": 3
      },
      "file_extension": ".py",
      "mimetype": "text/x-python",
      "name": "python",
      "nbconvert_exporter": "python",
      "pygments_lexer": "ipython3",
      "version": "3.10.8"
    },
    "toc": {
      "base_numbering": 1,
      "nav_menu": {},
      "number_sections": true,
      "sideBar": true,
      "skip_h1_title": false,
      "title_cell": "Table of Contents",
      "title_sidebar": "Contents",
      "toc_cell": false,
      "toc_position": {},
      "toc_section_display": true,
      "toc_window_display": false
    }
  },
  "nbformat": 4,
  "nbformat_minor": 5
}